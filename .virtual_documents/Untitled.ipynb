# Importing libraries
import pandas as pd
import numpy as np


# Creating sample dataframe
data = pd.DataFrame ({"Name": ['Tifa', 'Cloud', 'Sterling'],
                      "Species" : ['Dog', 'Dog', 'Cat'],
                      "Age" : [10, 11, 1]})
data


# Using lambda function to create new column of ages in human years (i.e. multiplied by 7)
data['Human_Age'] = data['Age'].apply(lambda x: x*7)
data


# Creating a label column following typical human age classifications (Senior, Adult, Young)
data['Age_Label'] = data['Age'].apply(
    lambda x: 'Senior' if x > 65 else ('Adult' if x >= 18 else 'Young')
data



