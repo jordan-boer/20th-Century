{
 "cells": [
  {
   "cell_type": "markdown",
   "id": "4bcfed4c-ee1a-48d6-bb46-58d9b381d858",
   "metadata": {},
   "source": [
    "# Accessing Web Data with Data Scraping"
   ]
  },
  {
   "cell_type": "code",
   "execution_count": 1,
   "id": "40182e03-9d24-465c-a444-bb811f135c66",
   "metadata": {},
   "outputs": [],
   "source": [
    "# Importing libraries\n",
    "import pandas as pd\n",
    "import time\n",
    "from selenium import webdriver\n",
    "from webdriver_manager.chrome import ChromeDriverManager\n",
    "from selenium.webdriver.common.by import By\n",
    "from selenium.webdriver.chrome.service import Service\n",
    "from selenium.webdriver.chrome.options import Options\n",
    "import matplotlib.pyplot as plt\n",
    "import os\n",
    "import logging\n",
    "import requests\n",
    "import bs4"
   ]
  },
  {
   "cell_type": "code",
   "execution_count": 2,
   "id": "be730b0a-3425-46bd-ac30-14dfeddbb6db",
   "metadata": {},
   "outputs": [],
   "source": [
    "## Setup chrome options\n",
    "chrome_options = Options()\n",
    "chrome_options.add_argument(\"--headless\") # Ensure GUI is off\n",
    "chrome_options.add_argument(\"--no-sandbox\")"
   ]
  },
  {
   "cell_type": "code",
   "execution_count": 3,
   "id": "ad5819e4-2ced-499d-a1c9-da552508fcd0",
   "metadata": {},
   "outputs": [],
   "source": [
    "# Specify path to ChromeDriver executable\n",
    "driver_path = r'C:\\Program Files\\Google\\Chrome\\chromedriver.exe'\n",
    "service = Service(executable_path=driver_path)"
   ]
  },
  {
   "cell_type": "code",
   "execution_count": 4,
   "id": "57df04b9-2aa3-4c0f-84ea-9b5e38b54c49",
   "metadata": {},
   "outputs": [],
   "source": [
    "# Initialize WebDriver with service\n",
    "driver = webdriver.Chrome(executable_path=driver_path)"
   ]
  },
  {
   "cell_type": "markdown",
   "id": "cf6654b8-ab61-4a74-8ded-c891a849414e",
   "metadata": {},
   "source": [
    "# Scraping \"Key Events of the 20th Century\" wiki page with Requests and BeautifulSoup"
   ]
  },
  {
   "cell_type": "code",
   "execution_count": 5,
   "id": "2c5c7f79-403e-4f1b-9e0c-5f2310d84e25",
   "metadata": {},
   "outputs": [],
   "source": [
    "# Import BeautifulSoup\n",
    "from bs4 import BeautifulSoup"
   ]
  },
  {
   "cell_type": "code",
   "execution_count": 6,
   "id": "1e868f11-b3c7-4d14-b4da-a933a27abec0",
   "metadata": {},
   "outputs": [],
   "source": [
    "# Get web page contents\n",
    "page = requests.get(\"https://en.wikipedia.org/wiki/Key_events_of_the_20th_century\")"
   ]
  },
  {
   "cell_type": "code",
   "execution_count": 7,
   "id": "eb68fe1a-e3c2-4c53-a89d-b2f2ab94b381",
   "metadata": {},
   "outputs": [
    {
     "name": "stdout",
     "output_type": "stream",
     "text": [
      "<title>Key events of the 20th century - Wikipedia</title>\n"
     ]
    }
   ],
   "source": [
    "# Create soup and get title\n",
    "soup = BeautifulSoup(page.text, 'html.parser')\n",
    "\n",
    "# Remove headers and footers by their tags or classes/IDs\n",
    "for header in soup.find_all('header'):\n",
    "    header.decompose()  # This removes the header element from the soup\n",
    "\n",
    "for footer in soup.find_all('footer'):\n",
    "    footer.decompose()  # This removes the footer element from the soup\n",
    "\n",
    "# Extract main content\n",
    "main_content = soup.find('div', class_='mw-body-content')\n",
    "\n",
    "# Clean the extracted text\n",
    "if main_content:\n",
    "    text = main_content.get_text(separator=' ', strip=True)\n",
    "print(soup.title)"
   ]
  },
  {
   "cell_type": "code",
   "execution_count": 9,
   "id": "25bc9d1c-7041-4bad-bbc1-3d70ebc67704",
   "metadata": {},
   "outputs": [],
   "source": [
    "# Creating object to store the text\n",
    "text_clean = main_content.get_text()"
   ]
  },
  {
   "cell_type": "code",
   "execution_count": 10,
   "id": "cfc4e39a-b8e4-45e0-8b60-87a2ff1a4d99",
   "metadata": {},
   "outputs": [],
   "source": [
    "# Define the encoding\n",
    "text_clean = text_clean.encode('utf-8')"
   ]
  },
  {
   "cell_type": "code",
   "execution_count": 11,
   "id": "117feb2b-261b-4c22-bef3-3b9fe7774700",
   "metadata": {},
   "outputs": [],
   "source": [
    "# Save as a text file to working folder\n",
    "with open('20th_Century_Wiki_refined.txt', 'wb') as f: \n",
    "    f.write(text_clean)"
   ]
  },
  {
   "cell_type": "code",
   "execution_count": null,
   "id": "435c78ba-20cc-47b4-8391-03df319366b6",
   "metadata": {},
   "outputs": [],
   "source": []
  }
 ],
 "metadata": {
  "kernelspec": {
   "display_name": "Python [conda env:venv_20th_century]",
   "language": "python",
   "name": "conda-env-venv_20th_century-py"
  },
  "language_info": {
   "codemirror_mode": {
    "name": "ipython",
    "version": 3
   },
   "file_extension": ".py",
   "mimetype": "text/x-python",
   "name": "python",
   "nbconvert_exporter": "python",
   "pygments_lexer": "ipython3",
   "version": "3.10.16"
  }
 },
 "nbformat": 4,
 "nbformat_minor": 5
}
