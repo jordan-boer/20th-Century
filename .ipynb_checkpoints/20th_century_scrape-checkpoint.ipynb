{
 "cells": [
  {
   "cell_type": "code",
   "execution_count": 1,
   "id": "668674ac-d7a2-467c-a0ae-d882854667c5",
   "metadata": {},
   "outputs": [],
   "source": [
    "# Importing libraries\n",
    "import pandas as pd\n",
    "import time\n",
    "from selenium import webdriver\n",
    "from webdriver_manager.chrome import ChromeDriverManager\n",
    "from selenium.webdriver.common.by import By\n",
    "from selenium.webdriver.chrome.service import Service\n",
    "from selenium.webdriver.chrome.options import Options\n",
    "import matplotlib.pyplot as plt\n",
    "import os\n",
    "import logging\n",
    "import requests\n",
    "import bs4"
   ]
  },
  {
   "cell_type": "code",
   "execution_count": 2,
   "id": "a4e188ca-5f19-4fb3-a4d6-6ccfbc821cd7",
   "metadata": {},
   "outputs": [],
   "source": [
    "## Setup chrome options\n",
    "\n",
    "chrome_options = Options()\n",
    "chrome_options.add_argument(\"--headless\") # Ensure GUI is off\n",
    "chrome_options.add_argument(\"--no-sandbox\")"
   ]
  },
  {
   "cell_type": "code",
   "execution_count": 5,
   "id": "714e460a-4220-4559-8c59-6fd46fea159a",
   "metadata": {},
   "outputs": [],
   "source": [
    "# Specify path to ChromeDriver executable\n",
    "driver_path = r'C:\\Program Files\\Google\\Chrome\\chromedriver.exe'\n",
    "service = Service(executable_path=driver_path)"
   ]
  },
  {
   "cell_type": "code",
   "execution_count": 7,
   "id": "ad3dd174-50a5-4e79-9da0-dec7a405b787",
   "metadata": {},
   "outputs": [],
   "source": [
    "# Initialize WebDriver with service\n",
    "driver = webdriver.Chrome(executable_path=driver_path)"
   ]
  },
  {
   "cell_type": "markdown",
   "id": "3a5e0dae-43f5-44f9-9b63-60fb5fa83d24",
   "metadata": {},
   "source": [
    "# Scraping \"Key Events of the 20th Century\" wiki page with Requests and BeautifulSoup"
   ]
  },
  {
   "cell_type": "code",
   "execution_count": 9,
   "id": "55f118d7-b4eb-458f-8def-d8b774519706",
   "metadata": {},
   "outputs": [],
   "source": [
    "# Import BeautifulSoup\n",
    "from bs4 import BeautifulSoup"
   ]
  },
  {
   "cell_type": "code",
   "execution_count": 10,
   "id": "eb2e7056-5a20-4d8d-9e01-6e12ba88081d",
   "metadata": {},
   "outputs": [],
   "source": [
    "# Get web page contents\n",
    "page = requests.get(\"https://en.wikipedia.org/wiki/Key_events_of_the_20th_century\")"
   ]
  },
  {
   "cell_type": "code",
   "execution_count": 11,
   "id": "2d2739a7-22d2-482c-8283-338f6e164d91",
   "metadata": {},
   "outputs": [
    {
     "name": "stdout",
     "output_type": "stream",
     "text": [
      "<title>Key events of the 20th century - Wikipedia</title>\n"
     ]
    }
   ],
   "source": [
    "# Create soup and get title\n",
    "soup = BeautifulSoup(page.text, 'html.parser')\n",
    "print(soup.title)"
   ]
  },
  {
   "cell_type": "code",
   "execution_count": 12,
   "id": "f3cb2027-8a21-477e-8fba-ac10d016241f",
   "metadata": {},
   "outputs": [],
   "source": [
    "# Creating object to store the text\n",
    "text = soup.get_text()"
   ]
  },
  {
   "cell_type": "code",
   "execution_count": 13,
   "id": "77f67af0-5dc2-43a0-a061-dc6792f65d97",
   "metadata": {},
   "outputs": [],
   "source": [
    "# Define the encoding\n",
    "text = text.encode('utf-8')"
   ]
  },
  {
   "cell_type": "code",
   "execution_count": 14,
   "id": "2fbb47db-94e5-4a05-8988-ab1830bc793f",
   "metadata": {},
   "outputs": [],
   "source": [
    "# Save as a text file to working folder\n",
    "with open('20th_Century_Wiki.txt', 'wb') as f: \n",
    "    f.write(text)"
   ]
  },
  {
   "cell_type": "code",
   "execution_count": null,
   "id": "1388c578-c431-488e-9b80-62fad3dbcc4f",
   "metadata": {},
   "outputs": [],
   "source": []
  }
 ],
 "metadata": {
  "kernelspec": {
   "display_name": "Python [conda env:venv_20th_century]",
   "language": "python",
   "name": "conda-env-venv_20th_century-py"
  },
  "language_info": {
   "codemirror_mode": {
    "name": "ipython",
    "version": 3
   },
   "file_extension": ".py",
   "mimetype": "text/x-python",
   "name": "python",
   "nbconvert_exporter": "python",
   "pygments_lexer": "ipython3",
   "version": "3.10.16"
  }
 },
 "nbformat": 4,
 "nbformat_minor": 5
}
